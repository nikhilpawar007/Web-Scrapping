{
  "nbformat": 4,
  "nbformat_minor": 0,
  "metadata": {
    "colab": {
      "name": "Web Srapping.ipynb",
      "provenance": []
    },
    "kernelspec": {
      "name": "python3",
      "display_name": "Python 3"
    },
    "language_info": {
      "name": "python"
    }
  },
  "cells": [
    {
      "cell_type": "code",
      "metadata": {
        "id": "MfQo6DSNCbZ8",
        "colab": {
          "base_uri": "https://localhost:8080/"
        },
        "outputId": "98a58687-4ad5-42ef-d489-ba19c381fa8e"
      },
      "source": [
        "!pip install autoscraper\n",
        "from autoscraper import AutoScraper"
      ],
      "execution_count": 3,
      "outputs": [
        {
          "output_type": "stream",
          "name": "stdout",
          "text": [
            "Collecting autoscraper\n",
            "  Downloading autoscraper-1.1.12-py3-none-any.whl (10 kB)\n",
            "Requirement already satisfied: lxml in /usr/local/lib/python3.7/dist-packages (from autoscraper) (4.2.6)\n",
            "Requirement already satisfied: bs4 in /usr/local/lib/python3.7/dist-packages (from autoscraper) (0.0.1)\n",
            "Requirement already satisfied: requests in /usr/local/lib/python3.7/dist-packages (from autoscraper) (2.23.0)\n",
            "Requirement already satisfied: beautifulsoup4 in /usr/local/lib/python3.7/dist-packages (from bs4->autoscraper) (4.6.3)\n",
            "Requirement already satisfied: certifi>=2017.4.17 in /usr/local/lib/python3.7/dist-packages (from requests->autoscraper) (2021.10.8)\n",
            "Requirement already satisfied: chardet<4,>=3.0.2 in /usr/local/lib/python3.7/dist-packages (from requests->autoscraper) (3.0.4)\n",
            "Requirement already satisfied: idna<3,>=2.5 in /usr/local/lib/python3.7/dist-packages (from requests->autoscraper) (2.10)\n",
            "Requirement already satisfied: urllib3!=1.25.0,!=1.25.1,<1.26,>=1.21.1 in /usr/local/lib/python3.7/dist-packages (from requests->autoscraper) (1.24.3)\n",
            "Installing collected packages: autoscraper\n",
            "Successfully installed autoscraper-1.1.12\n"
          ]
        }
      ]
    },
    {
      "cell_type": "code",
      "metadata": {
        "id": "B_OOqKpTCpxD",
        "colab": {
          "base_uri": "https://localhost:8080/"
        },
        "outputId": "184499ef-7fea-46d7-aa03-7e596c3ff24b"
      },
      "source": [
        "url= \"https://www.amazon.in/s?k=furniture\"\n",
        "wanted_list = [\"Wipro Furniture Georgia Fabric Sofa - 3 Seater Blue\",\"₹20,000\"]\n",
        "scraper = AutoScraper()\n",
        "result = scraper.build(url,wanted_list)\n",
        "print(result)"
      ],
      "execution_count": 31,
      "outputs": [
        {
          "output_type": "stream",
          "name": "stdout",
          "text": [
            "['Wipro Furniture Georgia Fabric Sofa - 3 Seater Blue', 'Wipro Furniture Jaden Fabric Sofa - 3 Seater Blue, Three Seater', 'Pepperfry Chest of Drawers | Mintwud | Yuko | Colour: Columbia Walnut Finish | Cabinet | Wooden Cabinet | Chest of Drawers | Wooden Chest of Drawers | Storage Cabinet | Cabinet for living room | Cabinet for bedroom | Living room furniture | Bedroom furniture...', 'Savya home Apollo HBCB (Chair B)', 'SAW SAQIB ALI WOODEN HANDICRAFTS Corner Rack Shelves for Living and Bedroom Decoration (5*17*17) inches Wall Decoration (Red)', 'Amazon Brand - Solimo Triumph Engineered Wood Study Table (Walnut Finish)', 'Amazon Brand - Solimo Fame MDF Study Desk(Walnut Finish,Brown)', 'Genuine Decor 18 Inch Floating Shelves for Wall Set of 3, Rustic Wall Mounted Ledge Shelf for Bathroom, Bedroom, Living', \"BLACK OAK Zaragoza 80'' Wide Velvet Rolled Arm Chesterfield Sofa Grey\", 'SAW SAQIB ALI WOODEN HANDICRAFTS Set top Box Wall Stand Rack Shelf tv Unit (6 * 40 * 5) inches Wall Decor', 'Laxmi Handicraft Foldable Wooden Stepable Wall Shelves in Sheesham in Natural Honey Oak Color with Glossy Finished', 'Genuine Decor Indian Bedside Table Walnut | Solid Fiber Wood Compact Floating Nightstand Drawer with Handle and Open Shelf | Wood Floors Bedside Table | Scandinavian | Mid-Century/Modern', '₹20,000', '₹37,520', '₹36,400', '₹11,439', '₹20,999', '₹5,790', '₹17,000', '₹599', '₹999', '₹4,759', '₹7,000', '₹4,659', '₹7,500', '₹1,449', '₹4,999', '₹25,997', '₹51,999', '₹1,499', '₹3,999', '₹7,999', '₹5,999', '₹12,999']\n"
          ]
        }
      ]
    },
    {
      "cell_type": "code",
      "metadata": {
        "colab": {
          "base_uri": "https://localhost:8080/"
        },
        "id": "RgShr4xNfloX",
        "outputId": "b8a6ef59-fd6b-466b-9171-8026e068c578"
      },
      "source": [
        "scraper.get_result_similar(\"https://www.amazon.in/s?k=furniture\", grouped=True)"
      ],
      "execution_count": 32,
      "outputs": [
        {
          "output_type": "execute_result",
          "data": {
            "text/plain": [
              "{'rule_ls27': ['₹20,000',\n",
              "  '₹37,520',\n",
              "  '₹20,000',\n",
              "  '₹36,400',\n",
              "  '₹11,439',\n",
              "  '₹20,999',\n",
              "  '₹5,790',\n",
              "  '₹17,000',\n",
              "  '₹1,599',\n",
              "  '₹4,999',\n",
              "  '₹2,799',\n",
              "  '₹8,999',\n",
              "  '₹599',\n",
              "  '₹999',\n",
              "  '₹4,659',\n",
              "  '₹7,500',\n",
              "  '₹25,997',\n",
              "  '₹51,999',\n",
              "  '₹1,449',\n",
              "  '₹4,999',\n",
              "  '₹999',\n",
              "  '₹1,499',\n",
              "  '₹999',\n",
              "  '₹1,499'],\n",
              " 'rule_ndsv': ['Wipro Furniture Georgia Fabric Sofa - 3 Seater Blue',\n",
              "  'Wipro Furniture Jaden Fabric Sofa - 3 Seater Blue, Three Seater',\n",
              "  'Pepperfry Chest of Drawers | Mintwud | Yuko | Colour: Columbia Walnut Finish | Cabinet | Wooden Cabinet | Chest of Drawers | Wooden Chest of Drawers | Storage Cabinet | Cabinet for living room | Cabinet for bedroom | Living room furniture | Bedroom furniture...',\n",
              "  'Savya home Apollo HBCB (Chair B)',\n",
              "  'Pazano Multipurpose 2-Tier Metal Frame Shelf Rack Stand End Table for Sofa Turn-N-Tube End Table Corner Display Rack Hallway, Living Room, Simple Assembly (DIY) - (40x40x50cm)',\n",
              "  'Sunon Sofa Side End Table for Coffee or Laptop,Mobile Snack Table with Wheels Couch Bedside Table for Home and Office',\n",
              "  'SAW SAQIB ALI WOODEN HANDICRAFTS Corner Rack Shelves for Living and Bedroom Decoration (5*17*17) inches Wall Decoration (Red)',\n",
              "  'Amazon Brand - Solimo Fame MDF Study Desk(Walnut Finish,Brown)',\n",
              "  \"BLACK OAK Zaragoza 80'' Wide Velvet Rolled Arm Chesterfield Sofa Grey\",\n",
              "  'Genuine Decor 18 Inch Floating Shelves for Wall Set of 3, Rustic Wall Mounted Ledge Shelf for Bathroom, Bedroom, Living',\n",
              "  'SAW SAQIB ALI WOODEN HANDICRAFTS Set top Box Wall Stand Rack Shelf tv Unit (6 * 40 * 5) inches Wall Decor',\n",
              "  'SAW SAQIB ALI WOODEN HANDICRAFTS Set top Box tv Unit Wall Rack Shelves (6 * 40 * 5) inches Home Decor'],\n",
              " 'rule_r3v0': ['₹20,000',\n",
              "  '₹37,520',\n",
              "  '₹20,000',\n",
              "  '₹36,400',\n",
              "  '₹11,439',\n",
              "  '₹20,999',\n",
              "  '₹5,790',\n",
              "  '₹17,000',\n",
              "  '₹1,599',\n",
              "  '₹4,999',\n",
              "  '₹2,799',\n",
              "  '₹8,999',\n",
              "  '₹599',\n",
              "  '₹999',\n",
              "  '₹4,659',\n",
              "  '₹7,500',\n",
              "  '₹25,997',\n",
              "  '₹51,999',\n",
              "  '₹1,449',\n",
              "  '₹4,999',\n",
              "  '₹999',\n",
              "  '₹1,499',\n",
              "  '₹999',\n",
              "  '₹1,499'],\n",
              " 'rule_ruye': ['₹20,000',\n",
              "  '₹37,520',\n",
              "  '₹20,000',\n",
              "  '₹36,400',\n",
              "  '₹11,439',\n",
              "  '₹20,999',\n",
              "  '₹5,790',\n",
              "  '₹17,000',\n",
              "  '₹1,599',\n",
              "  '₹4,999',\n",
              "  '₹2,799',\n",
              "  '₹8,999',\n",
              "  '₹599',\n",
              "  '₹999',\n",
              "  '₹4,659',\n",
              "  '₹7,500',\n",
              "  '₹25,997',\n",
              "  '₹51,999',\n",
              "  '₹1,449',\n",
              "  '₹4,999',\n",
              "  '₹999',\n",
              "  '₹1,499',\n",
              "  '₹999',\n",
              "  '₹1,499'],\n",
              " 'rule_y8zp': ['₹20,000',\n",
              "  '₹37,520',\n",
              "  '₹20,000',\n",
              "  '₹36,400',\n",
              "  '₹11,439',\n",
              "  '₹20,999',\n",
              "  '₹5,790',\n",
              "  '₹17,000',\n",
              "  '₹1,599',\n",
              "  '₹4,999',\n",
              "  '₹2,799',\n",
              "  '₹8,999',\n",
              "  '₹599',\n",
              "  '₹999',\n",
              "  '₹4,659',\n",
              "  '₹7,500',\n",
              "  '₹25,997',\n",
              "  '₹51,999',\n",
              "  '₹1,449',\n",
              "  '₹4,999',\n",
              "  '₹999',\n",
              "  '₹1,499',\n",
              "  '₹999',\n",
              "  '₹1,499']}"
            ]
          },
          "metadata": {},
          "execution_count": 32
        }
      ]
    },
    {
      "cell_type": "code",
      "metadata": {
        "id": "OV_17GP3Su4A"
      },
      "source": [
        "scraper.set_rule_aliases({'rule_r3v0':'Price','rule_ndsv':'Title'})\n",
        "scraper.keep_rules(['rule_r3v0','rule_ndsv'])\n",
        "scraper.save('amazon-furniture')"
      ],
      "execution_count": 33,
      "outputs": []
    },
    {
      "cell_type": "code",
      "metadata": {
        "id": "w0LCLbUDfmCw"
      },
      "source": [
        "scraper.load('amazon-furniture')"
      ],
      "execution_count": 34,
      "outputs": []
    },
    {
      "cell_type": "code",
      "metadata": {
        "id": "YY6if603fYOS"
      },
      "source": [
        "result = scraper.get_result_similar(\"https://www.amazon.in/s?k=furniture&rh=n%3A976442031%2Cn%3A1380538031&dc&qid=1638370083&rnid=3576079031&ref=sr_nr_n_2\", group_by_alias=True)"
      ],
      "execution_count": 53,
      "outputs": []
    },
    {
      "cell_type": "code",
      "metadata": {
        "colab": {
          "base_uri": "https://localhost:8080/"
        },
        "id": "8aUK5lCajGSZ",
        "outputId": "6c0bc370-ad5a-42ad-ba97-e8e1d1867fce"
      },
      "source": [
        "result['Title']"
      ],
      "execution_count": 54,
      "outputs": [
        {
          "output_type": "execute_result",
          "data": {
            "text/plain": [
              "['Home Centre Helios Reynan Lucia White Engineered Wood Wall Mounted Key Shelf',\n",
              " 'Home Centre Helios Reynan Medley White Engineered Wood Wall Hang Shelf',\n",
              " 'Home Centre Helios Reynan Twist White Engineered Wooden Wall Mounted Tree Shelf',\n",
              " 'Genuine Decor 18 Inch Floating Shelves for Wall Set of 3, Rustic Wall Mounted Ledge Shelf for Bathroom, Bedroom, Living',\n",
              " 'Laxmi Handicraft Foldable Wooden Stepable Wall Shelves in Sheesham in Natural Honey Oak Color with Glossy Finished',\n",
              " 'Decorlay Iron Wall Shelves Glossy Finish Set of 3 Black',\n",
              " 'Genuine Decor 17inch Floating Shelves for Wall, Rustic Rosewood Farmhouse Invisible Shelf Set for Drywall Storage Rack Display Ledge for Bathroom Kitchen Bedroom Living Room Office - (Brown)',\n",
              " 'Globel Interiors India Wall Shelf Rustic Wood Floating Shelves Decorative Wall Shelf for Bedroom | Living Room | Bathroom | Kitchen |Office and More (24\" x 24\" x 4.72\", Wooden)',\n",
              " 'AmazonBasics 4-Tier Iron Tower Shelf+AmazonBasics Height Adjustable 3-Shelves Heavy Duty Rack - Black']"
            ]
          },
          "metadata": {},
          "execution_count": 54
        }
      ]
    },
    {
      "cell_type": "code",
      "metadata": {
        "id": "JihvlXDGjOVi"
      },
      "source": [
        "import pandas as pd\n",
        "df = pd.DataFrame(result['Title'],result['Price'][:9])"
      ],
      "execution_count": 58,
      "outputs": []
    },
    {
      "cell_type": "code",
      "metadata": {
        "colab": {
          "base_uri": "https://localhost:8080/",
          "height": 328
        },
        "id": "rED4p3v1jupE",
        "outputId": "9edbf05a-140d-46b3-864f-210f7ed227c4"
      },
      "source": [
        "df"
      ],
      "execution_count": 59,
      "outputs": [
        {
          "output_type": "execute_result",
          "data": {
            "text/html": [
              "<div>\n",
              "<style scoped>\n",
              "    .dataframe tbody tr th:only-of-type {\n",
              "        vertical-align: middle;\n",
              "    }\n",
              "\n",
              "    .dataframe tbody tr th {\n",
              "        vertical-align: top;\n",
              "    }\n",
              "\n",
              "    .dataframe thead th {\n",
              "        text-align: right;\n",
              "    }\n",
              "</style>\n",
              "<table border=\"1\" class=\"dataframe\">\n",
              "  <thead>\n",
              "    <tr style=\"text-align: right;\">\n",
              "      <th></th>\n",
              "      <th>0</th>\n",
              "    </tr>\n",
              "  </thead>\n",
              "  <tbody>\n",
              "    <tr>\n",
              "      <th>₹660</th>\n",
              "      <td>Home Centre Helios Reynan Lucia White Engineer...</td>\n",
              "    </tr>\n",
              "    <tr>\n",
              "      <th>₹1,200</th>\n",
              "      <td>Home Centre Helios Reynan Medley White Enginee...</td>\n",
              "    </tr>\n",
              "    <tr>\n",
              "      <th>₹1,868</th>\n",
              "      <td>Home Centre Helios Reynan Twist White Engineer...</td>\n",
              "    </tr>\n",
              "    <tr>\n",
              "      <th>₹3,398</th>\n",
              "      <td>Genuine Decor 18 Inch Floating Shelves for Wal...</td>\n",
              "    </tr>\n",
              "    <tr>\n",
              "      <th>₹770</th>\n",
              "      <td>Laxmi Handicraft Foldable Wooden Stepable Wall...</td>\n",
              "    </tr>\n",
              "    <tr>\n",
              "      <th>₹1,400</th>\n",
              "      <td>Decorlay Iron Wall Shelves Glossy Finish Set o...</td>\n",
              "    </tr>\n",
              "    <tr>\n",
              "      <th>₹1,449</th>\n",
              "      <td>Genuine Decor 17inch Floating Shelves for Wall...</td>\n",
              "    </tr>\n",
              "    <tr>\n",
              "      <th>₹4,999</th>\n",
              "      <td>Globel Interiors India Wall Shelf Rustic Wood ...</td>\n",
              "    </tr>\n",
              "    <tr>\n",
              "      <th>₹3,999</th>\n",
              "      <td>AmazonBasics 4-Tier Iron Tower Shelf+AmazonBas...</td>\n",
              "    </tr>\n",
              "  </tbody>\n",
              "</table>\n",
              "</div>"
            ],
            "text/plain": [
              "                                                        0\n",
              "₹660    Home Centre Helios Reynan Lucia White Engineer...\n",
              "₹1,200  Home Centre Helios Reynan Medley White Enginee...\n",
              "₹1,868  Home Centre Helios Reynan Twist White Engineer...\n",
              "₹3,398  Genuine Decor 18 Inch Floating Shelves for Wal...\n",
              "₹770    Laxmi Handicraft Foldable Wooden Stepable Wall...\n",
              "₹1,400  Decorlay Iron Wall Shelves Glossy Finish Set o...\n",
              "₹1,449  Genuine Decor 17inch Floating Shelves for Wall...\n",
              "₹4,999  Globel Interiors India Wall Shelf Rustic Wood ...\n",
              "₹3,999  AmazonBasics 4-Tier Iron Tower Shelf+AmazonBas..."
            ]
          },
          "metadata": {},
          "execution_count": 59
        }
      ]
    },
    {
      "cell_type": "code",
      "metadata": {
        "id": "0PHwGuZ7j9TN"
      },
      "source": [
        ""
      ],
      "execution_count": null,
      "outputs": []
    }
  ]
}